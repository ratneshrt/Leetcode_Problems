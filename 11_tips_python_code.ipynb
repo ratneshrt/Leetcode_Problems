{
 "cells": [
  {
   "cell_type": "markdown",
   "metadata": {},
   "source": [
    "### 1. Iterate with `enumerate()` instead of `range(len())`\n",
    "If we need to iterate over a list and need to **track both the index and the current item**, most people would use the `range(len)` syntax.\n",
    "We want to iterate over a list check if the current item is negative and sets its value to 0."
   ]
  },
  {
   "cell_type": "code",
   "execution_count": 2,
   "metadata": {},
   "outputs": [],
   "source": [
    "data = [1,2,-3,-4]\n",
    "# weak\n",
    "for i in range(len(data)):\n",
    "    if data [i] < 0:\n",
    "        data[i] = 0\n",
    "\n",
    "# better\n",
    "data = [1,2,-3,-4]\n",
    "for idx, num in enumerate(data):\n",
    "    if num<0:\n",
    "        data[idx] = 0"
   ]
  },
  {
   "cell_type": "markdown",
   "metadata": {},
   "source": [
    "While the `range(len)` syntax works it's much nicer to use built-in `enumerate` function here. This returns both the current index and the current item as a tuple. So we can check the value here and also access the iem with the index."
   ]
  },
  {
   "cell_type": "markdown",
   "metadata": {},
   "source": [
    "### 2. Use list comprehension instead of raw for-loops\n",
    "List comprehension can be really powerful, and even include if-statements."
   ]
  },
  {
   "cell_type": "code",
   "execution_count": null,
   "metadata": {},
   "outputs": [],
   "source": [
    "squares = []\n",
    "for i in range(10):\n",
    "    squares.append(i*i)\n",
    "\n",
    "\"\"\"\n",
    "A simpler way to do this is list comprehension. \n",
    "Here we only need one line to achieve the same thing:\n",
    "\"\"\"\n",
    "\n",
    "# list comprehension\n",
    "squares = [i*i for i in range(10)]"
   ]
  },
  {
   "cell_type": "markdown",
   "metadata": {},
   "source": [
    "Note that the usage of list comprehension is a little bit debatable. It should not be overused, especially not if it impairs the readability of the code."
   ]
  },
  {
   "cell_type": "markdown",
   "metadata": {},
   "source": [
    "### 3. Sort Complex iterables with the built-in `sorted()` method\n",
    "If we need to sort some iterable, e.g., a list, a tuple, or a dictionary, we don't need to implement the sorting algorithm ourselves. We can simply use the built-in `sorted` function. This automatically sorts the numbers in **ascending order** and returns a new list. If we want to have the result in **descending order**, we can use the argument `reverse=True`."
   ]
  },
  {
   "cell_type": "code",
   "execution_count": null,
   "metadata": {},
   "outputs": [],
   "source": [
    "data = (3, 5, 1, 10, 9)\n",
    "sorted_data = sorted(data, reverse=True) # [10, 9, 5, 3, 1]"
   ]
  },
  {
   "cell_type": "markdown",
   "metadata": {},
   "source": [
    "Let's say we have a complex iterable. Here a list, and inside the list we have dictionaries, and we want to sort the list according to the age in the dictionary. For this we can also use the `sorted` function and then pass in the **key argument** that should be used for sorting. The key must be a function, so here we can use a **lambda** and use a one line function that returns the age."
   ]
  },
  {
   "cell_type": "code",
   "execution_count": null,
   "metadata": {},
   "outputs": [],
   "source": [
    "data = [{\"name\": \"Max\", \"age\": 6}, \n",
    "        {\"name\": \"Lisa\", \"age\": 20}, \n",
    "        {\"name\": \"Ben\", \"age\": 9}\n",
    "        ]\n",
    "sorted_data = sorted(data, key=lambda x: x[\"age\"])"
   ]
  },
  {
   "cell_type": "markdown",
   "metadata": {},
   "source": [
    "### 4. Store unique values with Sets\n",
    "A list with multiple values and need to have only **unique** values, a nice trick is to **convert our list to a set**."
   ]
  },
  {
   "cell_type": "code",
   "execution_count": null,
   "metadata": {},
   "outputs": [],
   "source": [
    "my_list = [1,2,3,4,5,6,7,7,7]\n",
    "my_set = set(my_list) # removes duplicates"
   ]
  },
  {
   "cell_type": "markdown",
   "metadata": {},
   "source": [
    "### 5. Save Memory with Generators\n",
    "List comprehension is a great way in tip2, but a **list is not always the best choice**. If we have a very large list 1000 items and we want sum of it. We can do with list but we might run into memory issue. We can **use generators** instead. Generator comprehension has the **same syntax but with parenthesis**.\n",
    "A generator computes our elements lazily, i.e., it produces only one time at a time and only when asked for it. \n"
   ]
  },
  {
   "cell_type": "code",
   "execution_count": null,
   "metadata": {},
   "outputs": [],
   "source": [
    "# list comprehension\n",
    "my_list = [i for i in range(10000)]\n",
    "print(sum(my_list)) # 49995000\n",
    "\n",
    "# generator comprehension\n",
    "my_gen = (i for i in range(10000))\n",
    "print(sum(my_gen)) # 49995000"
   ]
  },
  {
   "cell_type": "markdown",
   "metadata": {},
   "source": [
    "Now let's inspect the size of both the list and the generator with the built-in `sys.getsizeof()` method."
   ]
  },
  {
   "cell_type": "code",
   "execution_count": null,
   "metadata": {},
   "outputs": [],
   "source": [
    "import sys \n",
    "\n",
    "my_list = [i for i in range(10000)]\n",
    "print(sys.getsizeof(my_list), 'bytes') # 87616 bytes\n",
    "\n",
    "my_gen = (i for i in range(10000))\n",
    "print(sys.getsizeof(my_gen), 'bytes') # 128 bytes"
   ]
  },
  {
   "cell_type": "markdown",
   "metadata": {},
   "source": [
    "### 6. Define Default values in Dictionaries with `.get()` and `.setdefault()`\n",
    "We have a dictionary with different keys. At some point in our coode we want to get the *count* of the items and we assume that this key is also contained in the dictionary. When we try to access the key, it will crash our code and raise a *KeyError*. Better way to use the `.get()` method on the dictionary. This also returns the value for the key, but it will not raise a *KeyError* if the key is not available. Instead it returns the default value that we specified, or *None* if we didn't specify it."
   ]
  },
  {
   "cell_type": "code",
   "execution_count": null,
   "metadata": {},
   "outputs": [],
   "source": [
    "my_dict = {'item': 'football', 'price': 10.00}\n",
    "count = my_dict['count'] # KeyError!\n",
    "\n",
    "# better:\n",
    "count = my_dict.get('count', 0) # optional default value"
   ]
  },
  {
   "cell_type": "markdown",
   "metadata": {},
   "source": [
    "We want to ask for the count and we also want to update the dictionary and put the count into the dictionary if it's not available, we use `.setdefault()` method.\n",
    "This returns the default value that we specified, and the next time we check the dictionary the used key is now available in our dictionary."
   ]
  },
  {
   "cell_type": "code",
   "execution_count": null,
   "metadata": {},
   "outputs": [],
   "source": [
    "count = my_dict.setdefault('count', 0)\n",
    "print(count) # 0\n",
    "print(my_dict) # {'item': 'football', 'price': 10.00, 'count': 0}"
   ]
  },
  {
   "cell_type": "markdown",
   "metadata": {},
   "source": [
    "### 7. Count hashable objects with `collections.Counter`\n",
    "We need to count the number of elements in a list, there is handy tool `Counter` in the module `collections`. `Counter` print each item in our list according to number of times that this item appears, and it's already sorted with the most common item being in front."
   ]
  },
  {
   "cell_type": "code",
   "execution_count": null,
   "metadata": {},
   "outputs": [],
   "source": [
    "from collections import Counter\n",
    "\n",
    "my_list = [10, 10, 10, 5, 5, 2, 9, 9, 9, 9, 9, 9]\n",
    "counter = Counter(my_list)\n",
    "\n",
    "print(counter) # Counter({9: 6, 10: 3, 5: 2, 2: 1})\n",
    "print(counter[10]) # 3"
   ]
  },
  {
   "cell_type": "markdown",
   "metadata": {},
   "source": [
    "If we want to print most common items, it can be done with `most_common()`. We can specify if we just want the very most common item, or also the second most and so on by passing in a number."
   ]
  },
  {
   "cell_type": "code",
   "execution_count": null,
   "metadata": {},
   "outputs": [],
   "source": [
    "from collections import Counter\n",
    "\n",
    "my_list = [10, 10, 10, 5, 5, 2, 9, 9, 9, 9, 9, 9]\n",
    "counter = Counter(my_list)\n",
    "\n",
    "most_common = counter.most_common(2)\n",
    "print(most_common) # [(9, 6), (10, 3)]\n",
    "print(most_common[0]) # (9, 6)\n",
    "print(most_common[0][0]) # 9"
   ]
  },
  {
   "cell_type": "markdown",
   "metadata": {},
   "source": [
    "Note that this returns a list of tuples. Each tuple has the value as first value and the count as second value. So if we just want to have the value of the very most common item, we call this method and then we access index 0 in our list (this returns the first tuple) and then again access index 0 to get the value."
   ]
  },
  {
   "cell_type": "markdown",
   "metadata": {},
   "source": [
    "### 8. Format Strings with f-Strings\n",
    "We just have to write an f before our string, and then inside the string we can use curly braces and access variables."
   ]
  },
  {
   "cell_type": "code",
   "execution_count": null,
   "metadata": {},
   "outputs": [],
   "source": [
    "name = \"Alex\"\n",
    "my_string = f\"Hello {name}\"\n",
    "print(my_string) # Hello Alex\n",
    "\n",
    "i = 10\n",
    "print(f\"{i} squared is {i*i}\") # 10 squared is 100"
   ]
  },
  {
   "cell_type": "markdown",
   "metadata": {},
   "source": [
    "### 9. Concatenate Strings with `.join()`\n",
    "We have a list with different strings, and we want to combine all elements to one string, separated by a space between each word. \n",
    "Bad way is to do it like this:"
   ]
  },
  {
   "cell_type": "code",
   "execution_count": null,
   "metadata": {},
   "outputs": [],
   "source": [
    "list_of_strings = [\"Hello\", \"my\", \"friend\"]\n",
    "\n",
    "# BAD:\n",
    "my_string = \"\"\n",
    "for i in list_of_strings:\n",
    "    my_string += i + \" \" "
   ]
  },
  {
   "cell_type": "markdown",
   "metadata": {},
   "source": [
    "We defined an empty string, then iterated over the list, and then appended the word and a space to the string. As you should know, **a string is an immutable element**, so here we have to create new strings each time. This code can be very slow for large lists.\n",
    "Much more concise is to the `.join(0)` method:"
   ]
  },
  {
   "cell_type": "code",
   "execution_count": null,
   "metadata": {},
   "outputs": [],
   "source": [
    "# GOOD:\n",
    "list_of_strings = [\"Hello\", \"my\", \"friend\"]\n",
    "my_string = \" \".join(list_of_strings)"
   ]
  },
  {
   "cell_type": "markdown",
   "metadata": {},
   "source": [
    "### 10. Merge dictionaries with the double asterisk syntax **\n",
    "If we have two dictionaries and want to merge them, we can use curly braces and double asterisks for both dictionaries."
   ]
  },
  {
   "cell_type": "code",
   "execution_count": null,
   "metadata": {},
   "outputs": [],
   "source": [
    "d1 = {'name': 'Alex', 'age': 25}\n",
    "d2 = {'name': 'Alex', 'city': 'New York'}\n",
    "merged_dict = {**d1, **d2}\n",
    "print(merged_dict) # {'name': 'Alex', 'age': 25, 'city': 'New York'}"
   ]
  },
  {
   "cell_type": "markdown",
   "metadata": {},
   "source": [
    "### 11. Simplify if-statement with `if x in list` instead of checking each item separately\n",
    "Let's say we have a list with main colors red, green, and blue. And somewhere in our code we have a new variable that contains some color, so here `c = red`. Then we want to check if this is a color from our main colors."
   ]
  },
  {
   "cell_type": "code",
   "execution_count": null,
   "metadata": {},
   "outputs": [],
   "source": [
    "colors = [\"red\", \"green\", \"blue\"]\n",
    "\n",
    "c = \"red\"\n",
    "\n",
    "# cumbersome and error-prone\n",
    "if c == \"red\" or c == \"green\" or c == \"blue\":\n",
    "    print(\"is main color\")"
   ]
  },
  {
   "cell_type": "markdown",
   "metadata": {},
   "source": [
    "But this can become very cumbersome, and we can easily make mistakes, for example if we have a typo here for red. Much simpler and much better is just to use the syntax `if x in list`:"
   ]
  },
  {
   "cell_type": "code",
   "execution_count": null,
   "metadata": {},
   "outputs": [],
   "source": [
    "colors = [\"red\", \"green\", \"blue\"]\n",
    "\n",
    "c = \"red\"\n",
    "\n",
    "# better:\n",
    "if c in colors:\n",
    "    print(\"is main color\")"
   ]
  }
 ],
 "metadata": {
  "kernelspec": {
   "display_name": "Python 3.9.8 64-bit (system)",
   "language": "python",
   "name": "python3"
  },
  "language_info": {
   "codemirror_mode": {
    "name": "ipython",
    "version": 3
   },
   "file_extension": ".py",
   "mimetype": "text/x-python",
   "name": "python",
   "nbconvert_exporter": "python",
   "pygments_lexer": "ipython3",
   "version": "3.9.8"
  },
  "orig_nbformat": 4,
  "vscode": {
   "interpreter": {
    "hash": "6ffddfa6113a03f6ce964fd63bc3330a4184d1ca6ed6cc495405c5e91b9861b8"
   }
  }
 },
 "nbformat": 4,
 "nbformat_minor": 2
}
